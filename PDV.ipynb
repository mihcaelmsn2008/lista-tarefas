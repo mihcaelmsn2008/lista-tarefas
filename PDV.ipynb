{
  "nbformat": 4,
  "nbformat_minor": 0,
  "metadata": {
    "colab": {
      "provenance": [],
      "authorship_tag": "ABX9TyN4Q3mOChXEMpQxCEyfFaLg",
      "include_colab_link": true
    },
    "kernelspec": {
      "name": "python3",
      "display_name": "Python 3"
    },
    "language_info": {
      "name": "python"
    }
  },
  "cells": [
    {
      "cell_type": "markdown",
      "metadata": {
        "id": "view-in-github",
        "colab_type": "text"
      },
      "source": [
        "<a href=\"https://colab.research.google.com/github/mihcaelmsn2008/lista-tarefas/blob/main/PDV.ipynb\" target=\"_parent\"><img src=\"https://colab.research.google.com/assets/colab-badge.svg\" alt=\"Open In Colab\"/></a>"
      ]
    },
    {
      "cell_type": "code",
      "execution_count": null,
      "metadata": {
        "id": "ydJinwgm0qaL"
      },
      "outputs": [],
      "source": [
        "class Produto:\n",
        "    def __init__(self, codigo, nome, preco):\n",
        "        self.codigo = codigo\n",
        "        self.nome = nome\n",
        "        self.preco = preco\n",
        "\n",
        "class Carrinho:\n",
        "    def __init__(self):\n",
        "        self.itens = []\n",
        "\n",
        "    def adicionar_item(self, produto, quantidade):\n",
        "        self.itens.append({\"produto\": produto, \"quantidade\": quantidade})\n",
        "\n",
        "    def calcular_total(self):\n",
        "        total = 0\n",
        "        for item in self.itens:\n",
        "            total += item[\"produto\"].preco * item[\"quantidade\"]\n",
        "        return total\n",
        "\n",
        "def exibir_produtos(produtos):\n",
        "    print(\"Produtos disponíveis:\")\n",
        "    for produto in produtos:\n",
        "        print(f\"{produto.codigo}: {produto.nome} - R${produto.preco:.2f}\")\n",
        "\n",
        "def main():\n",
        "    # Produtos disponíveis\n",
        "    produto1 = Produto(1, \"Produto A\", 10.99)\n",
        "    produto2 = Produto(2, \"Produto B\", 5.49)\n",
        "    produto3 = Produto(3, \"Produto C\", 8.95)\n",
        "\n",
        "    produtos_disponiveis = [produto1, produto2, produto3]\n",
        "\n",
        "    # Inicializar carrinho\n",
        "    carrinho = Carrinho()\n",
        "\n",
        "    while True:\n",
        "        exibir_produtos(produtos_disponiveis)\n",
        "\n",
        "        codigo_produto = int(input(\"Digite o código do produto (ou 0 para finalizar): \"))\n",
        "\n",
        "        if codigo_produto == 0:\n",
        "            break\n",
        "\n",
        "        quantidade = int(input(\"Digite a quantidade: \"))\n",
        "\n",
        "        produto_selecionado = None\n",
        "        for produto in produtos_disponiveis:\n",
        "            if produto.codigo == codigo_produto:\n",
        "                produto_selecionado = produto\n",
        "                break\n",
        "\n",
        "        if produto_selecionado:\n",
        "            carrinho.adicionar_item(produto_selecionado, quantidade)\n",
        "            print(f\"{quantidade} {produto_selecionado.nome}(s) adicionado(s) ao carrinho.\")\n",
        "        else:\n",
        "            print(\"Código de produto inválido. Tente novamente.\")\n",
        "\n",
        "    # Exibir recibo\n",
        "    print(\"\\nRecibo:\")\n",
        "    for item in carrinho.itens:\n",
        "        print(f\"{item['quantidade']} {item['produto'].nome}(s) - R${item['produto'].preco:.2f} cada\")\n",
        "    print(f\"Total a pagar: R${carrinho.calcular_total():.2f}\")\n",
        "\n",
        "if __name__ == \"__main__\":\n",
        "    main()"
      ]
    }
  ]
}